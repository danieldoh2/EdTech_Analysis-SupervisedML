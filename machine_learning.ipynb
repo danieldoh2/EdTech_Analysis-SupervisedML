{
 "cells": [
  {
   "cell_type": "code",
   "execution_count": 8,
   "metadata": {},
   "outputs": [],
   "source": [
    "import pandas as pd\n",
    "filtered_info_df_AAA = pd.read_csv('filtered_df.csv')"
   ]
  },
  {
   "cell_type": "code",
   "execution_count": 11,
   "metadata": {},
   "outputs": [
    {
     "name": "stdout",
     "output_type": "stream",
     "text": [
      "              precision    recall  f1-score   support\n",
      "\n",
      "           0       0.52      0.29      0.37        42\n",
      "           1       0.77      0.90      0.83       111\n",
      "\n",
      "    accuracy                           0.73       153\n",
      "   macro avg       0.65      0.59      0.60       153\n",
      "weighted avg       0.70      0.73      0.70       153\n",
      "\n"
     ]
    }
   ],
   "source": [
    "import pandas as pd\n",
    "import numpy as np\n",
    "from scipy.stats import norm\n",
    "\n",

    "data = filtered_info_df_AAA.copy()  # Make a copy of the DataFrame\n",
    "\n",

    "features = ['gender', 'region', 'highest_education', 'imd_band', 'age_band', 'studied_credits', 'disability']\n",
    "X = data[features]\n",
    "y = data['final_result']\n",
    "\n",

    "label_encoders = {}\n",
    "for feature in features:\n",
    "    X.loc[:, feature] = pd.factorize(X[feature])[0].copy()  # Convert categorical variables to numerical\n",
    "\n",

    "np.random.seed(42)  # Set seed for reproducibility\n",
    "train_indices = np.random.rand(len(X)) < 0.8  # 80% for training, 20% for testing\n",
    "X_train = X[train_indices]\n",
    "X_test = X[~train_indices]\n",
    "y_train = y[train_indices]\n",
    "y_test = y[~train_indices]\n",
    "\n",
 
    "def calculate_class_probs(x):\n",
    "    probs = []\n",
    "    for i, mean in enumerate(class_means.iterrows()):\n",
    "        mean = mean[1].values\n",
    "        std = class_stds.iloc[i].values\n",
    "        prob = np.prod(norm.pdf(x, loc=mean, scale=std))\n",
    "        probs.append(prob)\n",
    "    return np.array(probs) / np.sum(probs)\n",
    "\n",
   
    "class_means = X_train.groupby(y_train).mean()\n",
    "class_stds = X_train.groupby(y_train).std()\n",
    "\n",
    "X_test_filled = X_test.fillna(X_test.mean())\n",
    "\n",
    "y_pred_probs = X_test_filled.apply(calculate_class_probs, axis=1)\n",
    "y_pred_probs = np.vstack(y_pred_probs)  # Convert to 2D array\n",
    "y_pred = np.argmax(y_pred_probs, axis=1)\n",
    "\n",

    "from sklearn.metrics import classification_report\n",
    "print(classification_report(y_test, y_pred))\n"
   ]
  },
  {
   "cell_type": "code",
   "execution_count": 12,
   "metadata": {},
   "outputs": [
    {
     "name": "stdout",
     "output_type": "stream",
     "text": [
      "              precision    recall  f1-score   support\n",
      "\n",
      "           0       0.56      0.10      0.17        51\n",
      "           1       0.67      0.96      0.79        97\n",
      "\n",
      "    accuracy                           0.66       148\n",
      "   macro avg       0.61      0.53      0.48       148\n",
      "weighted avg       0.63      0.66      0.57       148\n",
      "\n"
     ]
    },
    {
     "name": "stderr",
     "output_type": "stream",
     "text": [
      "/var/folders/j8/tl0_lbl13hzgnfgmslz4hyfc0000gn/T/ipykernel_14084/4276925808.py:19: SettingWithCopyWarning: \n",
      "A value is trying to be set on a copy of a slice from a DataFrame.\n",
      "Try using .loc[row_indexer,col_indexer] = value instead\n",
      "\n",
      "See the caveats in the documentation: https://pandas.pydata.org/pandas-docs/stable/user_guide/indexing.html#returning-a-view-versus-a-copy\n",
      "  X[feature] = label_encoders[feature].fit_transform(X[feature])\n",
      "/var/folders/j8/tl0_lbl13hzgnfgmslz4hyfc0000gn/T/ipykernel_14084/4276925808.py:19: SettingWithCopyWarning: \n",
      "A value is trying to be set on a copy of a slice from a DataFrame.\n",
      "Try using .loc[row_indexer,col_indexer] = value instead\n",
      "\n",
      "See the caveats in the documentation: https://pandas.pydata.org/pandas-docs/stable/user_guide/indexing.html#returning-a-view-versus-a-copy\n",
      "  X[feature] = label_encoders[feature].fit_transform(X[feature])\n",
      "/var/folders/j8/tl0_lbl13hzgnfgmslz4hyfc0000gn/T/ipykernel_14084/4276925808.py:19: SettingWithCopyWarning: \n",
      "A value is trying to be set on a copy of a slice from a DataFrame.\n",
      "Try using .loc[row_indexer,col_indexer] = value instead\n",
      "\n",
      "See the caveats in the documentation: https://pandas.pydata.org/pandas-docs/stable/user_guide/indexing.html#returning-a-view-versus-a-copy\n",
      "  X[feature] = label_encoders[feature].fit_transform(X[feature])\n",
      "/var/folders/j8/tl0_lbl13hzgnfgmslz4hyfc0000gn/T/ipykernel_14084/4276925808.py:19: SettingWithCopyWarning: \n",
      "A value is trying to be set on a copy of a slice from a DataFrame.\n",
      "Try using .loc[row_indexer,col_indexer] = value instead\n",
      "\n",
      "See the caveats in the documentation: https://pandas.pydata.org/pandas-docs/stable/user_guide/indexing.html#returning-a-view-versus-a-copy\n",
      "  X[feature] = label_encoders[feature].fit_transform(X[feature])\n",
      "/var/folders/j8/tl0_lbl13hzgnfgmslz4hyfc0000gn/T/ipykernel_14084/4276925808.py:19: SettingWithCopyWarning: \n",
      "A value is trying to be set on a copy of a slice from a DataFrame.\n",
      "Try using .loc[row_indexer,col_indexer] = value instead\n",
      "\n",
      "See the caveats in the documentation: https://pandas.pydata.org/pandas-docs/stable/user_guide/indexing.html#returning-a-view-versus-a-copy\n",
      "  X[feature] = label_encoders[feature].fit_transform(X[feature])\n",
      "/var/folders/j8/tl0_lbl13hzgnfgmslz4hyfc0000gn/T/ipykernel_14084/4276925808.py:19: SettingWithCopyWarning: \n",
      "A value is trying to be set on a copy of a slice from a DataFrame.\n",
      "Try using .loc[row_indexer,col_indexer] = value instead\n",
      "\n",
      "See the caveats in the documentation: https://pandas.pydata.org/pandas-docs/stable/user_guide/indexing.html#returning-a-view-versus-a-copy\n",
      "  X[feature] = label_encoders[feature].fit_transform(X[feature])\n",
      "/var/folders/j8/tl0_lbl13hzgnfgmslz4hyfc0000gn/T/ipykernel_14084/4276925808.py:19: SettingWithCopyWarning: \n",
      "A value is trying to be set on a copy of a slice from a DataFrame.\n",
      "Try using .loc[row_indexer,col_indexer] = value instead\n",
      "\n",
      "See the caveats in the documentation: https://pandas.pydata.org/pandas-docs/stable/user_guide/indexing.html#returning-a-view-versus-a-copy\n",
      "  X[feature] = label_encoders[feature].fit_transform(X[feature])\n"
     ]
    }
   ],
   "source": [
    "import pandas as pd\n",
    "from sklearn.model_selection import train_test_split\n",
    "from sklearn.preprocessing import LabelEncoder\n",
    "from sklearn.linear_model import LogisticRegression\n",
    "from sklearn.metrics import classification_report\n",
    "\n",
    "# Assuming filtered_info_df_AAA is your DataFrame\n",
    "data = filtered_info_df_AAA.copy()  # Make a copy of the DataFrame\n",
    "\n",
    "# Select relevant features and target variable\n",
    "features = ['gender', 'region', 'highest_education', 'imd_band', 'age_band', 'studied_credits', 'disability']\n",
    "X = data[features]\n",
    "y = data['final_result']\n",
    "\n",
    "# Convert categorical variables to numerical using LabelEncoder\n",
    "label_encoders = {}\n",
    "for feature in features:\n",
    "    label_encoders[feature] = LabelEncoder()\n",
    "    X[feature] = label_encoders[feature].fit_transform(X[feature])\n",
    "\n",
    "# Split the data into training and testing sets\n",
    "X_train, X_test, y_train, y_test = train_test_split(X, y, test_size=0.2, random_state=42)\n",
    "\n",
    "# Train the Logistic Regression model\n",
    "classifier = LogisticRegression()\n",
    "classifier.fit(X_train, y_train)\n",
    "\n",
    "# Predict outcomes for the testing set\n",
    "y_pred = classifier.predict(X_test)\n",
    "\n",
    "# Evaluate the classifier\n",
    "print(classification_report(y_test, y_pred))\n"
   ]
  },
  {
   "cell_type": "code",
   "execution_count": 13,
   "metadata": {},
   "outputs": [],
   "source": [
    "import pickle \n",
    "\n",
    "with open('logistic_regression_model.pkl', 'wb') as file:\n",
    "    pickle.dump(classifier, file)"
   ]
  },
  {
   "cell_type": "code",
   "execution_count": 14,
   "metadata": {},
   "outputs": [],
   "source": [
    "\n",
    "\n",
    "with open('naive_bayes_model.pkl', 'wb') as file:\n",
    "    pickle.dump(classifier, file)\n"
   ]
  }
 ],
 "metadata": {
  "kernelspec": {
   "display_name": "Python 3",
   "language": "python",
   "name": "python3"
  },
  "language_info": {
   "codemirror_mode": {
    "name": "ipython",
    "version": 3
   },
   "file_extension": ".py",
   "mimetype": "text/x-python",
   "name": "python",
   "nbconvert_exporter": "python",
   "pygments_lexer": "ipython3",
   "version": "3.11.5"
  }
 },
 "nbformat": 4,
 "nbformat_minor": 2
}
