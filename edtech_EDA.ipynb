{
 "cells": [
  {
   "cell_type": "markdown",
   "metadata": {},
   "source": [
    "# Background\n",
    "Education Technology has become an important part of the education system. This can be seen through the mass adoption of school issued devices and educational software. However, it is still under debate whether or not this technology is actually improving the quality of education. \n",
    "\n",
    "In this project, we will be analyzing the impact of educational technology on student performance. We will be using the OULAD dataset, which contains information about student performance in online courses offered across 4 years, as well as information about the student's background and the school's resources. We will be using this data to determine if there is a correlation between the use of educational technology resources and student performance.\n",
    "\n",
    "After performing analysis, we will train a logistic regression machine learning model to predict whether or not a student will pass a course based on the student's background and the school's resources."
   ]
  },
  {
   "cell_type": "code",
   "execution_count": 1,
   "metadata": {},
   "outputs": [],
   "source": [
    "import pandas as pd \n",
    "import numpy as np\n",
    "import seaborn as sns\n",
    "import matplotlib.pyplot as plt\n",
    "\n",
    "import seaborn as sns"
   ]
  },
  {
   "cell_type": "code",
   "execution_count": 3,
   "metadata": {},
   "outputs": [],
   "source": [
    "info_df = pd.read_csv(\"/Users/danieldoh/Downloads/anonymisedData/studentInfo.csv\")\n",
    "assessment_df = pd.read_csv(\"/Users/danieldoh/Downloads/anonymisedData/studentAssessment.csv\")\n",
    "student_interactions = pd.read_csv('/Users/danieldoh/Downloads/anonymisedData/studentVle.csv')"
   ]
  },
  {
   "cell_type": "code",
   "execution_count": 37,
   "metadata": {},
   "outputs": [
    {
     "data": {
      "text/html": [
       "<div>\n",
       "<style scoped>\n",
       "    .dataframe tbody tr th:only-of-type {\n",
       "        vertical-align: middle;\n",
       "    }\n",
       "\n",
       "    .dataframe tbody tr th {\n",
       "        vertical-align: top;\n",
       "    }\n",
       "\n",
       "    .dataframe thead th {\n",
       "        text-align: right;\n",
       "    }\n",
       "</style>\n",
       "<table border=\"1\" class=\"dataframe\">\n",
       "  <thead>\n",
       "    <tr style=\"text-align: right;\">\n",
       "      <th></th>\n",
       "      <th>code_module</th>\n",
       "      <th>code_presentation</th>\n",
       "      <th>id_student</th>\n",
       "      <th>gender</th>\n",
       "      <th>region</th>\n",
       "      <th>highest_education</th>\n",
       "      <th>imd_band</th>\n",
       "      <th>age_band</th>\n",
       "      <th>num_of_prev_attempts</th>\n",
       "      <th>studied_credits</th>\n",
       "      <th>disability</th>\n",
       "      <th>final_result</th>\n",
       "    </tr>\n",
       "  </thead>\n",
       "  <tbody>\n",
       "    <tr>\n",
       "      <th>0</th>\n",
       "      <td>AAA</td>\n",
       "      <td>2013J</td>\n",
       "      <td>11391</td>\n",
       "      <td>M</td>\n",
       "      <td>East Anglian Region</td>\n",
       "      <td>HE Qualification</td>\n",
       "      <td>90-100%</td>\n",
       "      <td>55&lt;=</td>\n",
       "      <td>0</td>\n",
       "      <td>240</td>\n",
       "      <td>N</td>\n",
       "      <td>Pass</td>\n",
       "    </tr>\n",
       "    <tr>\n",
       "      <th>1</th>\n",
       "      <td>AAA</td>\n",
       "      <td>2013J</td>\n",
       "      <td>28400</td>\n",
       "      <td>F</td>\n",
       "      <td>Scotland</td>\n",
       "      <td>HE Qualification</td>\n",
       "      <td>20-30%</td>\n",
       "      <td>35-55</td>\n",
       "      <td>0</td>\n",
       "      <td>60</td>\n",
       "      <td>N</td>\n",
       "      <td>Pass</td>\n",
       "    </tr>\n",
       "    <tr>\n",
       "      <th>2</th>\n",
       "      <td>AAA</td>\n",
       "      <td>2013J</td>\n",
       "      <td>30268</td>\n",
       "      <td>F</td>\n",
       "      <td>North Western Region</td>\n",
       "      <td>A Level or Equivalent</td>\n",
       "      <td>30-40%</td>\n",
       "      <td>35-55</td>\n",
       "      <td>0</td>\n",
       "      <td>60</td>\n",
       "      <td>Y</td>\n",
       "      <td>Withdrawn</td>\n",
       "    </tr>\n",
       "    <tr>\n",
       "      <th>3</th>\n",
       "      <td>AAA</td>\n",
       "      <td>2013J</td>\n",
       "      <td>31604</td>\n",
       "      <td>F</td>\n",
       "      <td>South East Region</td>\n",
       "      <td>A Level or Equivalent</td>\n",
       "      <td>50-60%</td>\n",
       "      <td>35-55</td>\n",
       "      <td>0</td>\n",
       "      <td>60</td>\n",
       "      <td>N</td>\n",
       "      <td>Pass</td>\n",
       "    </tr>\n",
       "    <tr>\n",
       "      <th>4</th>\n",
       "      <td>AAA</td>\n",
       "      <td>2013J</td>\n",
       "      <td>32885</td>\n",
       "      <td>F</td>\n",
       "      <td>West Midlands Region</td>\n",
       "      <td>Lower Than A Level</td>\n",
       "      <td>50-60%</td>\n",
       "      <td>0-35</td>\n",
       "      <td>0</td>\n",
       "      <td>60</td>\n",
       "      <td>N</td>\n",
       "      <td>Pass</td>\n",
       "    </tr>\n",
       "  </tbody>\n",
       "</table>\n",
       "</div>"
      ],
      "text/plain": [
       "  code_module code_presentation  id_student gender                region  \\\n",
       "0         AAA             2013J       11391      M   East Anglian Region   \n",
       "1         AAA             2013J       28400      F              Scotland   \n",
       "2         AAA             2013J       30268      F  North Western Region   \n",
       "3         AAA             2013J       31604      F     South East Region   \n",
       "4         AAA             2013J       32885      F  West Midlands Region   \n",
       "\n",
       "       highest_education imd_band age_band  num_of_prev_attempts  \\\n",
       "0       HE Qualification  90-100%     55<=                     0   \n",
       "1       HE Qualification   20-30%    35-55                     0   \n",
       "2  A Level or Equivalent   30-40%    35-55                     0   \n",
       "3  A Level or Equivalent   50-60%    35-55                     0   \n",
       "4     Lower Than A Level   50-60%     0-35                     0   \n",
       "\n",
       "   studied_credits disability final_result  \n",
       "0              240          N         Pass  \n",
       "1               60          N         Pass  \n",
       "2               60          Y    Withdrawn  \n",
       "3               60          N         Pass  \n",
       "4               60          N         Pass  "
      ]
     },
     "execution_count": 37,
     "metadata": {},
     "output_type": "execute_result"
    }
   ],
   "source": [
    "#Vi\n",
    "info_df.head()"
   ]
  },
  {
   "cell_type": "code",
   "execution_count": 39,
   "metadata": {},
   "outputs": [
    {
     "data": {
      "text/html": [
       "<div>\n",
       "<style scoped>\n",
       "    .dataframe tbody tr th:only-of-type {\n",
       "        vertical-align: middle;\n",
       "    }\n",
       "\n",
       "    .dataframe tbody tr th {\n",
       "        vertical-align: top;\n",
       "    }\n",
       "\n",
       "    .dataframe thead th {\n",
       "        text-align: right;\n",
       "    }\n",
       "</style>\n",
       "<table border=\"1\" class=\"dataframe\">\n",
       "  <thead>\n",
       "    <tr style=\"text-align: right;\">\n",
       "      <th></th>\n",
       "      <th>code_module</th>\n",
       "      <th>code_presentation</th>\n",
       "      <th>id_assessment</th>\n",
       "      <th>assessment_type</th>\n",
       "      <th>date</th>\n",
       "      <th>weight</th>\n",
       "    </tr>\n",
       "  </thead>\n",
       "  <tbody>\n",
       "    <tr>\n",
       "      <th>0</th>\n",
       "      <td>AAA</td>\n",
       "      <td>2013J</td>\n",
       "      <td>1752</td>\n",
       "      <td>TMA</td>\n",
       "      <td>19.0</td>\n",
       "      <td>10.0</td>\n",
       "    </tr>\n",
       "    <tr>\n",
       "      <th>1</th>\n",
       "      <td>AAA</td>\n",
       "      <td>2013J</td>\n",
       "      <td>1753</td>\n",
       "      <td>TMA</td>\n",
       "      <td>54.0</td>\n",
       "      <td>20.0</td>\n",
       "    </tr>\n",
       "    <tr>\n",
       "      <th>2</th>\n",
       "      <td>AAA</td>\n",
       "      <td>2013J</td>\n",
       "      <td>1754</td>\n",
       "      <td>TMA</td>\n",
       "      <td>117.0</td>\n",
       "      <td>20.0</td>\n",
       "    </tr>\n",
       "    <tr>\n",
       "      <th>3</th>\n",
       "      <td>AAA</td>\n",
       "      <td>2013J</td>\n",
       "      <td>1755</td>\n",
       "      <td>TMA</td>\n",
       "      <td>166.0</td>\n",
       "      <td>20.0</td>\n",
       "    </tr>\n",
       "    <tr>\n",
       "      <th>4</th>\n",
       "      <td>AAA</td>\n",
       "      <td>2013J</td>\n",
       "      <td>1756</td>\n",
       "      <td>TMA</td>\n",
       "      <td>215.0</td>\n",
       "      <td>30.0</td>\n",
       "    </tr>\n",
       "  </tbody>\n",
       "</table>\n",
       "</div>"
      ],
      "text/plain": [
       "  code_module code_presentation  id_assessment assessment_type   date  weight\n",
       "0         AAA             2013J           1752             TMA   19.0    10.0\n",
       "1         AAA             2013J           1753             TMA   54.0    20.0\n",
       "2         AAA             2013J           1754             TMA  117.0    20.0\n",
       "3         AAA             2013J           1755             TMA  166.0    20.0\n",
       "4         AAA             2013J           1756             TMA  215.0    30.0"
      ]
     },
     "execution_count": 39,
     "metadata": {},
     "output_type": "execute_result"
    }
   ],
   "source": [
    "asssessment_desc = pd.read_csv(\"/Users/danieldoh/Downloads/anonymisedData/assessments.csv\")\n",
    "asssessment_desc.head()"
   ]
  },
  {
   "cell_type": "code",
   "execution_count": 40,
   "metadata": {},
   "outputs": [
    {
     "data": {
      "text/plain": [
       "<Axes: xlabel='final_result'>"
      ]
     },
     "execution_count": 40,
     "metadata": {},
     "output_type": "execute_result"
    },
    {
     "data": {
      "image/png": "[encoded data removed]",
      "text/plain": [
       "<Figure size 640x480 with 1 Axes>"
      ]
     },
     "metadata": {},
     "output_type": "display_data"
    }
   ],
   "source": [
    "info_df['final_result'].value_counts().index\n",
    "sns.barplot(x=info_df['final_result'].value_counts().index, y = info_df['final_result'].value_counts().values)"
   ]
  },
  {
   "cell_type": "code",
   "execution_count": 41,
   "metadata": {},
   "outputs": [
    {
     "data": {
      "text/html": [
       "<div>\n",
       "<style scoped>\n",
       "    .dataframe tbody tr th:only-of-type {\n",
       "        vertical-align: middle;\n",
       "    }\n",
       "\n",
       "    .dataframe tbody tr th {\n",
       "        vertical-align: top;\n",
       "    }\n",
       "\n",
       "    .dataframe thead th {\n",
       "        text-align: right;\n",
       "    }\n",
       "</style>\n",
       "<table border=\"1\" class=\"dataframe\">\n",
       "  <thead>\n",
       "    <tr style=\"text-align: right;\">\n",
       "      <th></th>\n",
       "      <th>code_module</th>\n",
       "      <th>code_presentation</th>\n",
       "      <th>id_student</th>\n",
       "      <th>id_site</th>\n",
       "      <th>date</th>\n",
       "      <th>sum_click</th>\n",
       "    </tr>\n",
       "  </thead>\n",
       "  <tbody>\n",
       "    <tr>\n",
       "      <th>0</th>\n",
       "      <td>AAA</td>\n",
       "      <td>2013J</td>\n",
       "      <td>28400</td>\n",
       "      <td>546652</td>\n",
       "      <td>-10</td>\n",
       "      <td>4</td>\n",
       "    </tr>\n",
       "    <tr>\n",
       "      <th>1</th>\n",
       "      <td>AAA</td>\n",
       "      <td>2013J</td>\n",
       "      <td>28400</td>\n",
       "      <td>546652</td>\n",
       "      <td>-10</td>\n",
       "      <td>1</td>\n",
       "    </tr>\n",
       "    <tr>\n",
       "      <th>2</th>\n",
       "      <td>AAA</td>\n",
       "      <td>2013J</td>\n",
       "      <td>28400</td>\n",
       "      <td>546652</td>\n",
       "      <td>-10</td>\n",
       "      <td>1</td>\n",
       "    </tr>\n",
       "    <tr>\n",
       "      <th>3</th>\n",
       "      <td>AAA</td>\n",
       "      <td>2013J</td>\n",
       "      <td>28400</td>\n",
       "      <td>546614</td>\n",
       "      <td>-10</td>\n",
       "      <td>11</td>\n",
       "    </tr>\n",
       "    <tr>\n",
       "      <th>4</th>\n",
       "      <td>AAA</td>\n",
       "      <td>2013J</td>\n",
       "      <td>28400</td>\n",
       "      <td>546714</td>\n",
       "      <td>-10</td>\n",
       "      <td>1</td>\n",
       "    </tr>\n",
       "  </tbody>\n",
       "</table>\n",
       "</div>"
      ],
      "text/plain": [
       "  code_module code_presentation  id_student  id_site  date  sum_click\n",
       "0         AAA             2013J       28400   546652   -10          4\n",
       "1         AAA             2013J       28400   546652   -10          1\n",
       "2         AAA             2013J       28400   546652   -10          1\n",
       "3         AAA             2013J       28400   546614   -10         11\n",
       "4         AAA             2013J       28400   546714   -10          1"
      ]
     },
     "execution_count": 41,
     "metadata": {},
     "output_type": "execute_result"
    }
   ],
   "source": [
    "student_interactions.head()"
   ]
  },
  {
   "cell_type": "code",
   "execution_count": 4,
   "metadata": {},
   "outputs": [],
   "source": [
    "student_interactions['code_module'].unique()\n",
    "\n",
    "df_AAA = student_interactions[student_interactions['code_module'] == 'AAA']\n",
    "df_BBB =  student_interactions[student_interactions['code_module'] == 'BBB']\n",
    "df_CCC =  student_interactions[student_interactions['code_module'] == 'CCC']\n",
    "df_DDD =  student_interactions[student_interactions['code_module'] == 'DDD']\n",
    "\n",
    "\n",
    "info_df_AAA = info_df[info_df['code_module'] == 'AAA']\n",
    "info_df_BBB =  info_df[info_df['code_module'] == 'BBB']\n",
    "info_df_CCC =  info_df[info_df['code_module'] == 'CCC']\n",
    "info_df_DDD =  info_df[info_df['code_module'] == 'DDD']"
   ]
  },
  {
   "cell_type": "code",
   "execution_count": 43,
   "metadata": {},
   "outputs": [
    {
     "data": {
      "text/plain": [
       "array([ 546652,  546614,  546714,  546876,  546688,  546662,  546890,\n",
       "        547011,  547013,  546871,  546879,  546672,  546660,  546667,\n",
       "        546681,  546670,  546719,  546732,  546668,  546671,  546731,\n",
       "        546986,  546669,  546700,  547009,  546883,  546874,  546900,\n",
       "        546948,  547050,  546970,  546961,  546952,  546943,  546911,\n",
       "        546975,  547020,  546990,  546684,  546907,  546701,  546723,\n",
       "        546903,  546954,  546894,  546873,  546983,  546689,  546982,\n",
       "        546896,  546678,  546738,  546716,  546725,  546676,  546680,\n",
       "        546739,  547030,  546921,  546920,  546917,  546916,  546913,\n",
       "        547035,  546984,  546971,  546901,  546740,  546987,  546734,\n",
       "        546733,  546989,  546995,  546991,  546923,  546925,  546992,\n",
       "        546922,  546933,  546735,  546885,  546884,  546972,  546889,\n",
       "        546891,  547028,  546715,  546665,  546927,  546708,  547049,\n",
       "        546682,  546702,  546675,  546899,  547008,  547018,  547032,\n",
       "        547015,  546898,  546996,  546928,  546915,  546910,  546909,\n",
       "        546998,  546686,  546904,  547066,  546696,  546888,  546887,\n",
       "        546905,  546659,  546657,  546650,  546654,  547067,  546918,\n",
       "        546737,  546645,  546687,  546666,  547014,  546674,  547017,\n",
       "        546647,  546726,  547000,  546988,  546942,  546985,  546914,\n",
       "        546919,  547002,  547031,  547023,  547021,  547040,  547006,\n",
       "        547012,  547019,  547025,  547034,  547027,  547038,  547042,\n",
       "        547026,  546655,  546658,  546692,  546685,  546694,  546712,\n",
       "        546695,  547037,  547001,  546728,  546699,  546703,  546691,\n",
       "        546709,  546711,  546693,  546677,  546690,  546704,  546717,\n",
       "        546664,  546924,  546935,  546930,  546706,  547036,  546707,\n",
       "        546721,  546683,  547048,  546697,  546705,  546736,  546949,\n",
       "        546997,  546974,  546661,  546960,  547022,  546713,  546906,\n",
       "        546653,  547004,  547007,  546947,  546651,  547024,  547005,\n",
       "        546648,  547047,  547043,  546649,  547003,  546955,  546656,\n",
       "        546679,  546994,  546644,  546966,  546965,  546968,  877053,\n",
       "        877079,  877128,  877134,  877038,  877025,  877045,  877030,\n",
       "        877044,  877211,  877040,  877043,  877237,  877076,  877069,\n",
       "        877066,  877135,  877142,  877387,  877074,  877228,  877049,\n",
       "        877065,  877085,  877129,  877266,  877081,  877245,  877031,\n",
       "        877231,  877095,  877077,  877051,  877058,  877071,  877028,\n",
       "        877068,  877423,  877247,  877151,  877203,  877180,  877234,\n",
       "        877156,  877158,  877152,  877132,  877067,  877138,  877236,\n",
       "        877224,  877230,  877073,  877050,  877196,  877399,  877048,\n",
       "        877383,  877397,  877260,  877261,  877162,  877199,  877145,\n",
       "        877197,  877190,  877187,  877182,  877172,  877168,  877216,\n",
       "        877198,  877259,  877240,  877258,  877256,  877255,  877184,\n",
       "        877155,  877140,  877220,  877223,  877225,  877086,  877029,\n",
       "        877384,  877243,  877141,  877242,  877244,  877238,  877233,\n",
       "        877386,  877396,  877398,  877094,  877039,  877052,  877393,\n",
       "        877036,  877035,  877041,  877034,  877033,  877092,  877098,\n",
       "        877100,  877070,  877054,  877082,  877047,  877087,  877042,\n",
       "        877099,  877263,  877210,  877215,  877209,  877061,  877093,\n",
       "        877060,  877090,  877063,  877404,  877381,  877075,  877421,\n",
       "        877420,  877422,  877227,  877221,  877222,  877241,  877392,\n",
       "        877091,  877088,  877032,  877064,  877057,  877096,  877037,\n",
       "        877403,  877395,  877046,  877026,  877012,  877015,  877402,\n",
       "        877023,  877380,  877213,  877214,  877218,  877212,  877229,\n",
       "        877208,  877207,  877206,  877246,  877217,  877219,  877248,\n",
       "        877262,  877264,  877265,  877394,  877379,  877254,  877056,\n",
       "        877059,  877062,  877055,  877080,  877084,  877089,  877078,\n",
       "        877072,  877195,  877385,  877186,  877253,  877011,  877154,\n",
       "        877153,  877157,  877159,  877137,  877148,  877147,  877146,\n",
       "        877144,  877143,  877139,  877149,  877150, 1010323,  877252])"
      ]
     },
     "execution_count": 43,
     "metadata": {},
     "output_type": "execute_result"
    }
   ],
   "source": [
    "#Now that's a lot of resources.\n",
    "df_AAA['id_site'].unique()"
   ]
  },
  {
   "cell_type": "code",
   "execution_count": 44,
   "metadata": {},
   "outputs": [],
   "source": [
    "def get_10_largest(dataframe):\n",
    "    j = {}\n",
    "    for i in dataframe['id_site'].unique():\n",
    "        j[i] = (df_AAA.loc[df_AAA['id_site'] == i, 'sum_click'].sum())\n",
    "    sorted_pairs = sorted(j.items(), key = lambda x: x[1], reverse = True)\n",
    "    top_10 = sorted_pairs[:10]\n",
    "    top_10 = dict(top_10)\n",
    "    plot_figure(top_10, dataframe['code_module'].iloc[1])\n",
    "\n"
   ]
  },
  {
   "cell_type": "code",
   "execution_count": 45,
   "metadata": {},
   "outputs": [],
   "source": [
    "def plot_figure(top_10, dataframe):\n",
    "    plt.figure(figsize=(8, 5))\n",
    "    sns.barplot(x=list(top_10.keys()), y=list(top_10.values()), palette='Blues_d', order = list(top_10.keys()))\n",
    "    plt.xlabel('Resource ID')\n",
    "    plt.ylabel('Total clicks')\n",
    "    plt.title('Top 10 most used resources in module {name}'.format(name = dataframe))\n",
    "    plt.show()\n",
    "    \n"
   ]
  },
  {
   "cell_type": "code",
   "execution_count": 46,
   "metadata": {},
   "outputs": [
    {
     "name": "stderr",
     "output_type": "stream",
     "text": [
      "/var/folders/j8/tl0_lbl13hzgnfgmslz4hyfc0000gn/T/ipykernel_28980/3276011085.py:3: FutureWarning: \n",
      "\n",
      "Passing `palette` without assigning `hue` is deprecated and will be removed in v0.14.0. Assign the `x` variable to `hue` and set `legend=False` for the same effect.\n",
      "\n",
      "  sns.barplot(x=list(top_10.keys()), y=list(top_10.values()), palette='Blues_d', order = list(top_10.keys()))\n"
     ]
    },
    {
     "data": {
      "image/png": "[encoded data removed]",
      "text/plain": [
       "<Figure size 800x500 with 1 Axes>"
      ]
     },
     "metadata": {},
     "output_type": "display_data"
    }
   ],
   "source": [
    "get_10_largest(df_AAA)"
   ]
  },
  {
   "cell_type": "code",
   "execution_count": 8,
   "metadata": {},
   "outputs": [
    {
     "data": {
      "text/html": [
       "<div>\n",
       "<style scoped>\n",
       "    .dataframe tbody tr th:only-of-type {\n",
       "        vertical-align: middle;\n",
       "    }\n",
       "\n",
       "    .dataframe tbody tr th {\n",
       "        vertical-align: top;\n",
       "    }\n",
       "\n",
       "    .dataframe thead th {\n",
       "        text-align: right;\n",
       "    }\n",
       "</style>\n",
       "<table border=\"1\" class=\"dataframe\">\n",
       "  <thead>\n",
       "    <tr style=\"text-align: right;\">\n",
       "      <th></th>\n",
       "      <th>code_module</th>\n",
       "      <th>code_presentation</th>\n",
       "      <th>id_student</th>\n",
       "      <th>gender</th>\n",
       "      <th>region</th>\n",
       "      <th>highest_education</th>\n",
       "      <th>imd_band</th>\n",
       "      <th>age_band</th>\n",
       "      <th>num_of_prev_attempts</th>\n",
       "      <th>studied_credits</th>\n",
       "      <th>disability</th>\n",
       "      <th>final_result</th>\n",
       "    </tr>\n",
       "  </thead>\n",
       "  <tbody>\n",
       "    <tr>\n",
       "      <th>0</th>\n",
       "      <td>AAA</td>\n",
       "      <td>2013J</td>\n",
       "      <td>11391</td>\n",
       "      <td>M</td>\n",
       "      <td>East Anglian Region</td>\n",
       "      <td>HE Qualification</td>\n",
       "      <td>90-100%</td>\n",
       "      <td>55&lt;=</td>\n",
       "      <td>0</td>\n",
       "      <td>240</td>\n",
       "      <td>N</td>\n",
       "      <td>Pass</td>\n",
       "    </tr>\n",
       "    <tr>\n",
       "      <th>1</th>\n",
       "      <td>AAA</td>\n",
       "      <td>2013J</td>\n",
       "      <td>28400</td>\n",
       "      <td>F</td>\n",
       "      <td>Scotland</td>\n",
       "      <td>HE Qualification</td>\n",
       "      <td>20-30%</td>\n",
       "      <td>35-55</td>\n",
       "      <td>0</td>\n",
       "      <td>60</td>\n",
       "      <td>N</td>\n",
       "      <td>Pass</td>\n",
       "    </tr>\n",
       "    <tr>\n",
       "      <th>2</th>\n",
       "      <td>AAA</td>\n",
       "      <td>2013J</td>\n",
       "      <td>30268</td>\n",
       "      <td>F</td>\n",
       "      <td>North Western Region</td>\n",
       "      <td>A Level or Equivalent</td>\n",
       "      <td>30-40%</td>\n",
       "      <td>35-55</td>\n",
       "      <td>0</td>\n",
       "      <td>60</td>\n",
       "      <td>Y</td>\n",
       "      <td>Withdrawn</td>\n",
       "    </tr>\n",
       "    <tr>\n",
       "      <th>3</th>\n",
       "      <td>AAA</td>\n",
       "      <td>2013J</td>\n",
       "      <td>31604</td>\n",
       "      <td>F</td>\n",
       "      <td>South East Region</td>\n",
       "      <td>A Level or Equivalent</td>\n",
       "      <td>50-60%</td>\n",
       "      <td>35-55</td>\n",
       "      <td>0</td>\n",
       "      <td>60</td>\n",
       "      <td>N</td>\n",
       "      <td>Pass</td>\n",
       "    </tr>\n",
       "    <tr>\n",
       "      <th>4</th>\n",
       "      <td>AAA</td>\n",
       "      <td>2013J</td>\n",
       "      <td>32885</td>\n",
       "      <td>F</td>\n",
       "      <td>West Midlands Region</td>\n",
       "      <td>Lower Than A Level</td>\n",
       "      <td>50-60%</td>\n",
       "      <td>0-35</td>\n",
       "      <td>0</td>\n",
       "      <td>60</td>\n",
       "      <td>N</td>\n",
       "      <td>Pass</td>\n",
       "    </tr>\n",
       "  </tbody>\n",
       "</table>\n",
       "</div>"
      ],
      "text/plain": [
       "  code_module code_presentation  id_student gender                region  \\\n",
       "0         AAA             2013J       11391      M   East Anglian Region   \n",
       "1         AAA             2013J       28400      F              Scotland   \n",
       "2         AAA             2013J       30268      F  North Western Region   \n",
       "3         AAA             2013J       31604      F     South East Region   \n",
       "4         AAA             2013J       32885      F  West Midlands Region   \n",
       "\n",
       "       highest_education imd_band age_band  num_of_prev_attempts  \\\n",
       "0       HE Qualification  90-100%     55<=                     0   \n",
       "1       HE Qualification   20-30%    35-55                     0   \n",
       "2  A Level or Equivalent   30-40%    35-55                     0   \n",
       "3  A Level or Equivalent   50-60%    35-55                     0   \n",
       "4     Lower Than A Level   50-60%     0-35                     0   \n",
       "\n",
       "   studied_credits disability final_result  \n",
       "0              240          N         Pass  \n",
       "1               60          N         Pass  \n",
       "2               60          Y    Withdrawn  \n",
       "3               60          N         Pass  \n",
       "4               60          N         Pass  "
      ]
     },
     "execution_count": 8,
     "metadata": {},
     "output_type": "execute_result"
    }
   ],
   "source": [
    "info_df_AAA.head()"
   ]
  },
  {
   "cell_type": "code",
   "execution_count": 9,
   "metadata": {},
   "outputs": [
    {
     "data": {
      "text/html": [
       "<div>\n",
       "<style scoped>\n",
       "    .dataframe tbody tr th:only-of-type {\n",
       "        vertical-align: middle;\n",
       "    }\n",
       "\n",
       "    .dataframe tbody tr th {\n",
       "        vertical-align: top;\n",
       "    }\n",
       "\n",
       "    .dataframe thead th {\n",
       "        text-align: right;\n",
       "    }\n",
       "</style>\n",
       "<table border=\"1\" class=\"dataframe\">\n",
       "  <thead>\n",
       "    <tr style=\"text-align: right;\">\n",
       "      <th></th>\n",
       "      <th>code_module</th>\n",
       "      <th>code_presentation</th>\n",
       "      <th>id_student</th>\n",
       "      <th>id_site</th>\n",
       "      <th>date</th>\n",
       "      <th>sum_click</th>\n",
       "    </tr>\n",
       "  </thead>\n",
       "  <tbody>\n",
       "    <tr>\n",
       "      <th>0</th>\n",
       "      <td>AAA</td>\n",
       "      <td>2013J</td>\n",
       "      <td>28400</td>\n",
       "      <td>546652</td>\n",
       "      <td>-10</td>\n",
       "      <td>4</td>\n",
       "    </tr>\n",
       "    <tr>\n",
       "      <th>1</th>\n",
       "      <td>AAA</td>\n",
       "      <td>2013J</td>\n",
       "      <td>28400</td>\n",
       "      <td>546652</td>\n",
       "      <td>-10</td>\n",
       "      <td>1</td>\n",
       "    </tr>\n",
       "    <tr>\n",
       "      <th>2</th>\n",
       "      <td>AAA</td>\n",
       "      <td>2013J</td>\n",
       "      <td>28400</td>\n",
       "      <td>546652</td>\n",
       "      <td>-10</td>\n",
       "      <td>1</td>\n",
       "    </tr>\n",
       "    <tr>\n",
       "      <th>3</th>\n",
       "      <td>AAA</td>\n",
       "      <td>2013J</td>\n",
       "      <td>28400</td>\n",
       "      <td>546614</td>\n",
       "      <td>-10</td>\n",
       "      <td>11</td>\n",
       "    </tr>\n",
       "    <tr>\n",
       "      <th>4</th>\n",
       "      <td>AAA</td>\n",
       "      <td>2013J</td>\n",
       "      <td>28400</td>\n",
       "      <td>546714</td>\n",
       "      <td>-10</td>\n",
       "      <td>1</td>\n",
       "    </tr>\n",
       "  </tbody>\n",
       "</table>\n",
       "</div>"
      ],
      "text/plain": [
       "  code_module code_presentation  id_student  id_site  date  sum_click\n",
       "0         AAA             2013J       28400   546652   -10          4\n",
       "1         AAA             2013J       28400   546652   -10          1\n",
       "2         AAA             2013J       28400   546652   -10          1\n",
       "3         AAA             2013J       28400   546614   -10         11\n",
       "4         AAA             2013J       28400   546714   -10          1"
      ]
     },
     "execution_count": 9,
     "metadata": {},
     "output_type": "execute_result"
    }
   ],
   "source": [
    "df_AAA.head()"
   ]
  },
  {
   "cell_type": "code",
   "execution_count": 10,
   "metadata": {},
   "outputs": [
    {
     "name": "stdout",
     "output_type": "stream",
     "text": [
      "[292923, 405961, 2324976, 2365101, 323805, 328734, 488382, 567922, 623710, 1469279]\n"
     ]
    }
   ],
   "source": [
    "not_in_list = []\n",
    "for i in info_df_AAA['id_student'].unique():\n",
    "    if i not in df_AAA['id_student'].unique():\n",
    "        not_in_list.append(i)\n",
    "# print(info_df_AAA.shape)\n",
    "# print(df_AAA.shape)\n",
    "\n",
    "\n",
    "print(not_in_list)"
   ]
  },
  {
   "cell_type": "code",
   "execution_count": 11,
   "metadata": {},
   "outputs": [
    {
     "name": "stdout",
     "output_type": "stream",
     "text": [
      "<class 'numpy.ndarray'>\n"
     ]
    }
   ],
   "source": [
    "print(type(df_AAA['id_student'].unique()))"
   ]
  },
  {
   "cell_type": "code",
   "execution_count": 13,
   "metadata": {},
   "outputs": [],
   "source": [
    "def get_clicks_student(dataframe):\n",
    "    j = {}\n",
    "    for i in dataframe['id_student'].unique():\n",
    "        j[i] = (df_AAA.loc[df_AAA['id_student'] == i, 'sum_click'].sum())\n",
    "    return j"
   ]
  },
  {
   "cell_type": "code",
   "execution_count": 14,
   "metadata": {},
   "outputs": [
    {
     "name": "stdout",
     "output_type": "stream",
     "text": [
      "{28400: 1435, 30268: 281, 31604: 2158, 32885: 1034, 38053: 2445, 45462: 1492, 58873: 1732, 59185: 1102, 62155: 3388, 63400: 2737, 65002: 176, 70464: 1053, 71361: 2327, 75091: 2992, 57506: 1319, 77367: 680, 94961: 1240, 98094: 2839, 101781: 4104, 102806: 1944, 106577: 733, 104476: 4777, 110175: 998, 114999: 1358, 111717: 2343, 116692: 1108, 127582: 1321, 129955: 1888, 132976: 520, 135335: 73, 134143: 2732, 137873: 5528, 118983: 284, 123044: 2041, 144801: 5645, 146188: 597, 145130: 452, 147756: 1718, 148993: 3812, 235507: 1257, 238007: 1935, 241649: 1892, 248270: 1969, 255548: 2580, 258392: 844, 256815: 1481, 258894: 4963, 241729: 1829, 242793: 658, 246834: 1174, 262934: 2407, 271251: 3348, 279572: 1183, 281250: 130, 282821: 1961, 291334: 5231, 296332: 2152, 298696: 514, 300398: 1997, 287548: 483, 302302: 513, 305539: 68, 306897: 2742, 306466: 1220, 307866: 1476, 312537: 12882, 312782: 281, 155854: 4003, 155550: 1529, 155984: 2645, 159954: 2062, 164259: 466, 167906: 1510, 180753: 2012, 181316: 487, 184271: 1312, 186149: 2136, 185439: 427, 183096: 1975, 187100: 8562, 188278: 4497, 192183: 3219, 172797: 1782, 172112: 1939, 175392: 4447, 174782: 6318, 175932: 2016, 200860: 534, 202635: 1418, 205350: 1665, 227499: 2953, 227517: 1205, 229361: 1215, 228082: 227, 318933: 1281, 319047: 6589, 321942: 10083, 324084: 1961, 324282: 133, 331358: 6588, 334333: 303, 333323: 648, 335764: 3928, 336207: 1316, 342007: 3178, 342514: 1950, 342972: 838, 343446: 3644, 350188: 761, 365642: 2129, 368963: 677, 376439: 2342, 380953: 1062, 386952: 910, 392931: 3003, 393207: 876, 396872: 996, 388722: 671, 388885: 875, 401869: 955, 405088: 1388, 404804: 509, 414117: 807, 415969: 1417, 470588: 842, 489455: 2832, 441018: 646, 442442: 1009, 512460: 521, 588775: 7067, 603861: 1105, 544103: 2328, 550383: 910, 749412: 4007, 704156: 3064, 705379: 5680, 721259: 4108, 760729: 7288, 949618: 1357, 958987: 1216, 978739: 5988, 971027: 3098, 968578: 870, 1686521: 643, 1729319: 2756, 1758449: 2756, 1765788: 7057, 1847830: 6518, 1860318: 5975, 1889511: 1754, 1894188: 4294, 1801641: 459, 1938355: 1992, 1970390: 14759, 1976139: 1216, 2550279: 2809, 2551220: 1327, 2555340: 4441, 2557283: 7262, 2559575: 650, 2569324: 493, 2574583: 1890, 2576122: 261, 2574528: 988, 2598871: 2049, 2599352: 1160, 2600688: 582, 2606098: 491, 2671132: 3720, 2678643: 2287, 2685865: 2815, 2617002: 1473, 2688067: 289, 2689958: 3929, 2691206: 2297, 2578995: 1326, 2639641: 2042, 2639449: 797, 2641155: 4109, 2643002: 2434, 2649826: 5974, 2051699: 1734, 2104505: 701, 2122180: 4712, 2139353: 2388, 2143752: 1888, 2146792: 2385, 2062879: 2386, 2080474: 1146, 2083877: 685, 2149225: 319, 2164705: 231, 2171627: 1346, 2182846: 4214, 2197016: 1455, 2194100: 1401, 1035023: 1896, 1105478: 1695, 1456619: 1173, 1488959: 3493, 1518989: 4202, 1352868: 1732, 1402638: 910, 1401935: 240, 1620151: 998, 1626710: 6025, 1640609: 5061, 2229865: 3236, 2255601: 2543, 2312620: 1129, 2342426: 1814, 2358056: 1588, 2278464: 307, 2293923: 303, 2358969: 2106, 2364471: 7182, 2369266: 2146, 2367155: 2148, 2376496: 749, 2391984: 818, 2412002: 3344, 2411778: 1497, 2412967: 2458, 2449878: 622, 2470694: 3115, 2479954: 323, 2481901: 1949, 2482700: 1616, 2498700: 2864, 2456480: 183, 2460080: 3424, 2457256: 1611, 2458355: 4187, 2521459: 1078, 2523736: 470, 2529279: 1189, 2532302: 1216, 2536991: 1080, 2542724: 228, 2437837: 2684, 2516503: 3070, 2518069: 1617, 2566592: 1359, 2666246: 612, 2664024: 808, 2676809: 309, 2639540: 1964, 2694424: 4218, 2698257: 758, 2586560: 2905, 2594139: 1868, 969076: 1980, 1746134: 1759, 1942396: 470, 1801229: 1443, 2268379: 1685, 2011876: 1401, 1465690: 3460, 1414443: 1907, 572652: 780, 365244: 891, 368194: 437, 354858: 198, 364177: 821, 240712: 321, 260355: 426, 100893: 744, 45642: 1428, 147793: 155, 113295: 3553, 114017: 757, 141355: 1823, 324002: 1901, 346025: 569, 290757: 652, 281589: 59, 307061: 1081, 231554: 1839, 157568: 1405, 392756: 363, 402470: 1445, 390890: 997, 508818: 1129, 189879: 1541, 91265: 1494, 295741: 709, 277880: 2028, 290201: 1740, 305152: 146, 281022: 492, 333059: 301, 905042: 3004, 2469673: 523, 2411661: 574, 2691244: 472, 2084066: 1967, 2155014: 1454, 1889577: 931, 398552: 1183, 441888: 739, 444677: 1241, 494424: 58, 383254: 543, 564450: 224, 334259: 332, 175991: 138, 53025: 3158, 262011: 1066, 294570: 1775, 286488: 1046, 591774: 605, 2012966: 519, 2486127: 1690, 2552472: 519, 229179: 614, 332789: 1655, 345357: 2219, 240884: 427, 142326: 2121, 305386: 1277, 311917: 2230, 195262: 1905, 11391: 934, 74372: 116, 1763015: 420, 2339528: 593, 2065691: 1430, 2208424: 1080, 2613116: 1181, 2620584: 92, 2669816: 280, 2566163: 1591, 2562034: 248, 2645733: 1596, 2650282: 641, 580389: 1271, 345068: 547, 52130: 1894, 606143: 406, 102952: 1150, 268073: 3210, 183947: 964, 339972: 333, 368824: 292, 366483: 1465, 2073016: 1022, 498857: 998, 2461190: 967, 268733: 191, 2344901: 445, 205719: 333, 293699: 187, 228222: 445, 168936: 745, 116541: 1886, 294594: 865, 495284: 901, 420087: 342, 1618738: 723, 2429854: 953, 306107: 987, 344282: 65, 357668: 166, 2329342: 565, 386924: 164, 429958: 411, 135400: 610, 151358: 270, 376581: 2333, 141377: 756, 2153153: 3385, 581129: 194, 346843: 164, 568601: 488, 106247: 465, 236284: 732, 1472925: 1462, 341872: 201, 588477: 5183, 569505: 4225, 570317: 1027, 593846: 934, 593987: 1667, 369834: 1265, 358182: 1901, 350156: 560, 351336: 944, 350939: 1427, 353665: 398, 354170: 945, 381642: 1290, 375260: 829, 315744: 4574, 323370: 2141, 328024: 2444, 346118: 700, 345519: 1141, 332884: 1648, 58071: 3648, 58316: 1295, 101116: 1769, 28061: 1590, 55104: 1480, 75255: 950, 85302: 2280, 135471: 2291, 133922: 574, 141506: 415, 146503: 368, 130636: 332, 130034: 1831, 130547: 1252, 131390: 157, 151587: 166, 149741: 2342, 152668: 765, 107489: 3722, 109155: 3019, 108872: 1377, 258587: 6609, 254625: 1987, 260623: 1178, 273346: 2080, 237274: 2025, 244246: 1365, 248581: 2883, 263543: 1594, 266524: 359, 232307: 702, 235068: 2811, 205494: 1114, 167961: 2129, 158707: 4746, 228021: 4028, 174094: 4841, 174745: 1610, 175772: 3018, 175447: 3779, 304465: 3553, 302476: 1766, 303521: 7163, 296424: 1695, 295060: 1097, 275792: 605, 275674: 2090, 287210: 3275, 287040: 2267, 290164: 5805, 313937: 6965, 292775: 1859, 293824: 7901, 281077: 895, 281636: 2682, 608440: 187, 626240: 588, 1715896: 5314, 1686551: 647, 1689639: 1882, 1947156: 2074, 1926668: 2094, 1773377: 711, 2057803: 3418, 2085209: 7427, 2045084: 326, 2086400: 3501, 2165164: 1621, 2630087: 90, 2633226: 1044, 2601889: 2473, 2551797: 694, 2546445: 2372, 2692514: 6661, 2578676: 1260, 2595841: 969, 2581477: 5956, 2584873: 1443, 2648611: 1513, 2649800: 1249, 2642616: 1803, 2642935: 4385, 2654628: 1368, 2363863: 4481, 2375975: 4298, 2369415: 729, 2244332: 13879, 2277857: 2672, 2330254: 2867, 2318055: 1726, 2313257: 28, 2240349: 3109, 2398313: 3219, 2436812: 577, 2434159: 172, 2540168: 919, 2494700: 3527, 2514898: 1828, 2522927: 4477, 1484804: 1454, 1398979: 5071, 1576513: 15716, 1112555: 2404, 1268696: 326, 1511033: 679, 998493: 10464, 1045203: 3533, 384203: 5184, 384725: 4677, 387533: 1096, 383180: 657, 382095: 2392, 383723: 7532, 402727: 414, 400682: 1584, 401404: 1326, 402204: 751, 396599: 1039, 402961: 4555, 404356: 2076, 406682: 2752, 398171: 1337, 421455: 1472, 424577: 2196, 409100: 2180, 470982: 1528, 483800: 1368, 439305: 613, 488990: 710, 485962: 1034, 484897: 711, 637665: 2983, 676546: 321, 544253: 2270, 548120: 804, 561467: 453, 527100: 914, 527801: 607, 533068: 398, 623840: 2370, 298838: 1604, 311235: 1168, 63165: 912, 62487: 683, 31600: 429, 6516: 2791, 46844: 340, 334441: 283, 337748: 93, 341876: 1784, 329659: 487, 164944: 1300, 200804: 930, 183057: 833, 117818: 1695, 263952: 1444, 648130: 447, 1676594: 177, 2148681: 2346, 1757766: 3301, 1975209: 2754, 852847: 181, 2473538: 1473, 2694788: 100, 2355470: 216, 476603: 1365, 391249: 2648, 406671: 405, 468694: 473, 503889: 1901, 514526: 45, 2596621: 7649, 2521865: 3945, 289449: 1336, 294496: 1422, 335247: 604, 677186: 636, 185350: 236, 309142: 560, 274947: 251, 52765: 4938, 124064: 2042, 1609002: 1025, 2551932: 539, 2690062: 257, 2273119: 105, 2297896: 566, 2514368: 377, 1183831: 2818, 1839386: 207, 468120: 116, 446108: 879, 398349: 4295, 684180: 171, 228383: 2386, 174024: 812, 199636: 1836, 377546: 1660, 371710: 2960, 345440: 165, 364957: 1638, 295075: 1642, 287204: 1845, 95755: 381, 87431: 802, 642878: 578, 696578: 1667, 2677624: 1158, 396655: 462, 522482: 212, 574505: 850, 24734: 499, 79403: 1782, 301967: 193, 263251: 2485, 409703: 2808, 348807: 425, 85144: 656, 149962: 141, 1818673: 336, 2509639: 1227, 628088: 519, 285315: 1157, 277123: 537, 165226: 1062, 111512: 439, 119902: 2590, 2158196: 544, 2432796: 963, 2574990: 1855, 410092: 339, 481022: 79, 388147: 441, 387954: 532, 1967783: 2171, 1629771: 522, 2624961: 365, 133816: 4000, 315076: 1435, 26192: 2223, 2404408: 802, 2397661: 1657, 2500258: 2403, 292525: 311, 294655: 2219, 70011: 6396, 338407: 270, 330594: 1043, 85092: 665, 677281: 126, 696073: 2168, 125018: 2195, 348275: 545, 236875: 201, 447481: 767, 442132: 176, 243510: 549, 1721270: 730, 2507842: 1204, 440319: 676, 442064: 402, 518808: 1443, 400147: 338, 139033: 790, 1336190: 1021, 2158048: 851, 2010232: 4127, 2680312: 4966, 2606802: 306, 1799111: 1174, 596288: 375, 288994: 134, 310412: 2339, 298034: 1681, 252073: 865, 603834: 341, 500113: 473, 411971: 1318, 429858: 232, 431025: 300, 373872: 1528, 598070: 3, 639053: 195, 2425993: 737, 537081: 871, 2474849: 142, 2688166: 680, 687698: 174, 628312: 77, 121349: 2259, 375646: 606, 306646: 144, 1471214: 1161, 199897: 2135, 303985: 381, 383600: 725, 356170: 768, 630142: 455, 2467267: 90, 311659: 112, 2602338: 816, 2207874: 265, 418731: 127, 2168833: 20}\n"
     ]
    }
   ],
   "source": [
    "copy_AAA = df_AAA.copy()\n",
    "\n",
    "f = get_clicks_student(copy_AAA)\n",
    "print(f)"
   ]
  },
  {
   "cell_type": "code",
   "execution_count": 15,
   "metadata": {},
   "outputs": [
    {
     "name": "stdout",
     "output_type": "stream",
     "text": [
      "712\n",
      "702\n"
     ]
    }
   ],
   "source": [
    "print(info_df_AAA['id_student'].nunique())\n",
    "print(len(f.keys()))"
   ]
  },
  {
   "cell_type": "code",
   "execution_count": 16,
   "metadata": {},
   "outputs": [],
   "source": [
    "filtered_info_df_AAA = info_df_AAA[info_df_AAA['id_student'].isin(f.keys())]"
   ]
  },
  {
   "cell_type": "code",
   "execution_count": 17,
   "metadata": {},
   "outputs": [
    {
     "data": {
      "text/plain": [
       "702"
      ]
     },
     "execution_count": 17,
     "metadata": {},
     "output_type": "execute_result"
    }
   ],
   "source": [
    "filtered_info_df_AAA['id_student'].nunique()    "
   ]
  },
  {
   "cell_type": "code",
   "execution_count": 18,
   "metadata": {},
   "outputs": [
    {
     "name": "stderr",
     "output_type": "stream",
     "text": [
      "/var/folders/j8/tl0_lbl13hzgnfgmslz4hyfc0000gn/T/ipykernel_12938/371687617.py:1: SettingWithCopyWarning: \n",
      "A value is trying to be set on a copy of a slice from a DataFrame.\n",
      "Try using .loc[row_indexer,col_indexer] = value instead\n",
      "\n",
      "See the caveats in the documentation: https://pandas.pydata.org/pandas-docs/stable/user_guide/indexing.html#returning-a-view-versus-a-copy\n",
      "  filtered_info_df_AAA['total_clicks'] = filtered_info_df_AAA['id_student'].map(f)\n"
     ]
    }
   ],
   "source": [
    "filtered_info_df_AAA['total_clicks'] = filtered_info_df_AAA['id_student'].map(f)\n",
    "\n"
   ]
  },
  {
   "cell_type": "code",
   "execution_count": 26,
   "metadata": {},
   "outputs": [
    {
     "name": "stderr",
     "output_type": "stream",
     "text": [
      "/var/folders/j8/tl0_lbl13hzgnfgmslz4hyfc0000gn/T/ipykernel_12938/4043077762.py:1: SettingWithCopyWarning: \n",
      "A value is trying to be set on a copy of a slice from a DataFrame.\n",
      "Try using .loc[row_indexer,col_indexer] = value instead\n",
      "\n",
      "See the caveats in the documentation: https://pandas.pydata.org/pandas-docs/stable/user_guide/indexing.html#returning-a-view-versus-a-copy\n",
      "  filtered_info_df_AAA['final_result'] = filtered_info_df_AAA['final_result'].apply(lambda x: 1 if x == 'Pass' else 0)\n"
     ]
    },
    {
     "data": {
      "text/html": [
       "<div>\n",
       "<style scoped>\n",
       "    .dataframe tbody tr th:only-of-type {\n",
       "        vertical-align: middle;\n",
       "    }\n",
       "\n",
       "    .dataframe tbody tr th {\n",
       "        vertical-align: top;\n",
       "    }\n",
       "\n",
       "    .dataframe thead th {\n",
       "        text-align: right;\n",
       "    }\n",
       "</style>\n",
       "<table border=\"1\" class=\"dataframe\">\n",
       "  <thead>\n",
       "    <tr style=\"text-align: right;\">\n",
       "      <th></th>\n",
       "      <th>code_module</th>\n",
       "      <th>code_presentation</th>\n",
       "      <th>id_student</th>\n",
       "      <th>gender</th>\n",
       "      <th>region</th>\n",
       "      <th>highest_education</th>\n",
       "      <th>imd_band</th>\n",
       "      <th>age_band</th>\n",
       "      <th>num_of_prev_attempts</th>\n",
       "      <th>studied_credits</th>\n",
       "      <th>disability</th>\n",
       "      <th>final_result</th>\n",
       "      <th>total_clicks</th>\n",
       "    </tr>\n",
       "  </thead>\n",
       "  <tbody>\n",
       "    <tr>\n",
       "      <th>0</th>\n",
       "      <td>AAA</td>\n",
       "      <td>2013J</td>\n",
       "      <td>11391</td>\n",
       "      <td>M</td>\n",
       "      <td>East Anglian Region</td>\n",
       "      <td>HE Qualification</td>\n",
       "      <td>90-100%</td>\n",
       "      <td>55&lt;=</td>\n",
       "      <td>0</td>\n",
       "      <td>240</td>\n",
       "      <td>N</td>\n",
       "      <td>1</td>\n",
       "      <td>934</td>\n",
       "    </tr>\n",
       "    <tr>\n",
       "      <th>1</th>\n",
       "      <td>AAA</td>\n",
       "      <td>2013J</td>\n",
       "      <td>28400</td>\n",
       "      <td>F</td>\n",
       "      <td>Scotland</td>\n",
       "      <td>HE Qualification</td>\n",
       "      <td>20-30%</td>\n",
       "      <td>35-55</td>\n",
       "      <td>0</td>\n",
       "      <td>60</td>\n",
       "      <td>N</td>\n",
       "      <td>1</td>\n",
       "      <td>1435</td>\n",
       "    </tr>\n",
       "    <tr>\n",
       "      <th>2</th>\n",
       "      <td>AAA</td>\n",
       "      <td>2013J</td>\n",
       "      <td>30268</td>\n",
       "      <td>F</td>\n",
       "      <td>North Western Region</td>\n",
       "      <td>A Level or Equivalent</td>\n",
       "      <td>30-40%</td>\n",
       "      <td>35-55</td>\n",
       "      <td>0</td>\n",
       "      <td>60</td>\n",
       "      <td>Y</td>\n",
       "      <td>0</td>\n",
       "      <td>281</td>\n",
       "    </tr>\n",
       "    <tr>\n",
       "      <th>3</th>\n",
       "      <td>AAA</td>\n",
       "      <td>2013J</td>\n",
       "      <td>31604</td>\n",
       "      <td>F</td>\n",
       "      <td>South East Region</td>\n",
       "      <td>A Level or Equivalent</td>\n",
       "      <td>50-60%</td>\n",
       "      <td>35-55</td>\n",
       "      <td>0</td>\n",
       "      <td>60</td>\n",
       "      <td>N</td>\n",
       "      <td>1</td>\n",
       "      <td>2158</td>\n",
       "    </tr>\n",
       "    <tr>\n",
       "      <th>4</th>\n",
       "      <td>AAA</td>\n",
       "      <td>2013J</td>\n",
       "      <td>32885</td>\n",
       "      <td>F</td>\n",
       "      <td>West Midlands Region</td>\n",
       "      <td>Lower Than A Level</td>\n",
       "      <td>50-60%</td>\n",
       "      <td>0-35</td>\n",
       "      <td>0</td>\n",
       "      <td>60</td>\n",
       "      <td>N</td>\n",
       "      <td>1</td>\n",
       "      <td>1034</td>\n",
       "    </tr>\n",
       "  </tbody>\n",
       "</table>\n",
       "</div>"
      ],
      "text/plain": [
       "  code_module code_presentation  id_student gender                region  \\\n",
       "0         AAA             2013J       11391      M   East Anglian Region   \n",
       "1         AAA             2013J       28400      F              Scotland   \n",
       "2         AAA             2013J       30268      F  North Western Region   \n",
       "3         AAA             2013J       31604      F     South East Region   \n",
       "4         AAA             2013J       32885      F  West Midlands Region   \n",
       "\n",
       "       highest_education imd_band age_band  num_of_prev_attempts  \\\n",
       "0       HE Qualification  90-100%     55<=                     0   \n",
       "1       HE Qualification   20-30%    35-55                     0   \n",
       "2  A Level or Equivalent   30-40%    35-55                     0   \n",
       "3  A Level or Equivalent   50-60%    35-55                     0   \n",
       "4     Lower Than A Level   50-60%     0-35                     0   \n",
       "\n",
       "   studied_credits disability  final_result  total_clicks  \n",
       "0              240          N             1           934  \n",
       "1               60          N             1          1435  \n",
       "2               60          Y             0           281  \n",
       "3               60          N             1          2158  \n",
       "4               60          N             1          1034  "
      ]
     },
     "execution_count": 26,
     "metadata": {},
     "output_type": "execute_result"
    }
   ],
   "source": [
    "filtered_info_df_AAA['final_result'] = filtered_info_df_AAA['final_result'].apply(lambda x: 1 if x == 'Pass' else 0)\n",
    "filtered_info_df_AAA.head()\n"
   ]
  },
  {
   "cell_type": "code",
   "execution_count": 80,
   "metadata": {},
   "outputs": [
    {
     "name": "stderr",
     "output_type": "stream",
     "text": [
      "/var/folders/j8/tl0_lbl13hzgnfgmslz4hyfc0000gn/T/ipykernel_28980/1406685687.py:3: FutureWarning: \n",
      "\n",
      "Passing `palette` without assigning `hue` is deprecated and will be removed in v0.14.0. Assign the `x` variable to `hue` and set `legend=False` for the same effect.\n",
      "\n",
      "  sns.stripplot(x='final_result', y='total_clicks', data= filtered_info_df_AAA, jitter = True, palette= 'viridis')\n"
     ]
    },
    {
     "data": {
      "image/png": "[encoded data removed]",
      "text/plain": [
       "<Figure size 640x480 with 1 Axes>"
      ]
     },
     "metadata": {},
     "output_type": "display_data"
    }
   ],
   "source": [
    "# sns.boxplot(x='final_result', y='total_clicks', data= filtered_info_df_AAA)\n",
    "# sns.violinplot(x='final_result', y='total_clicks', data= filtered_info_df_AAA)\n",
    "sns.stripplot(x='final_result', y='total_clicks', data= filtered_info_df_AAA, jitter = True, palette= 'viridis')\n",
    "\n",
    "plt.ylim(0, 8000)\n",
    "plt.show()"
   ]
  },
  {
   "cell_type": "code",
   "execution_count": 20,
   "metadata": {},
   "outputs": [],
   "source": [
    "def result_clicks(dataframe):\n",
    "    j = {}\n",
    "    for i in dataframe['final_result'].unique():\n",
    "        j[i] = (dataframe.loc[dataframe['final_result'] == i, 'total_clicks'].sum())\n",
    "    passes = len(dataframe[dataframe['final_result'] == 'Pass'])\n",
    "    fails = len(dataframe[dataframe['final_result'] == 'Fail'])\n",
    "    withdraws = len(dataframe[dataframe['final_result'] == 'Withdrawn'])\n",
    "    j['average_pass_clicks'] = j['Pass']/passes\n",
    "    j['average_fail_clicks'] = j['Fail']/fails\n",
    "    j['average_withdraw_clicks'] = j['Withdrawn']/withdraws\n",
    "    return j\n",
    "\n",
    "\n",
    "d = result_clicks(filtered_info_df_AAA)\n"
   ]
  },
  {
   "cell_type": "code",
   "execution_count": 79,
   "metadata": {},
   "outputs": [
    {
     "data": {
      "text/plain": [
       "{'Pass': 931524,\n",
       " 'Withdrawn': 155993,\n",
       " 'Fail': 63857,\n",
       " 'Distinction': 172010,\n",
       " 'average_pass_clicks': 1912.7802874743327,\n",
       " 'average_fail_clicks': 701.7252747252747,\n",
       " 'average_withdraw_clicks': 1356.4608695652173}"
      ]
     },
     "execution_count": 79,
     "metadata": {},
     "output_type": "execute_result"
    }
   ],
   "source": [
    "d"
   ]
  },
  {
   "cell_type": "code",
   "execution_count": 21,
   "metadata": {},
   "outputs": [
    {
     "data": {
      "image/png": "[encoded data removed]",
      "text/plain": [
       "<Figure size 1000x600 with 1 Axes>"
      ]
     },
     "metadata": {},
     "output_type": "display_data"
    }
   ],
   "source": [
    "categories = ['Pass', 'Withdrawn', 'Fail', 'Distinction']\n",
    "counts = [d[category] for category in categories]\n",
    "\n",
    "plt.figure(figsize=(10, 6))\n",
    "plt.bar(categories, counts, color=['green', 'orange', 'red', 'blue'])\n",
    "plt.title('Counts of Pass, Withdrawn, Fail, and Distinction')\n",
    "plt.xlabel('Categories')\n",
    "plt.ylabel('Counts')\n",
    "plt.show()\n"
   ]
  },
  {
   "cell_type": "code",
   "execution_count": 22,
   "metadata": {},
   "outputs": [
    {
     "data": {
      "image/png": "[encoded data removed]",
      "text/plain": [
       "<Figure size 800x500 with 1 Axes>"
      ]
     },
     "metadata": {},
     "output_type": "display_data"
    }
   ],
   "source": [
    "average_clicks = [d['average_pass_clicks'], d['average_fail_clicks'], d['average_withdraw_clicks']]\n",
    "\n",
    "plt.figure(figsize=(8, 5))\n",
    "plt.bar(['Pass', 'Fail', 'Withdrawn'], average_clicks, color=['green', 'red', 'orange'])\n",
    "plt.title('Average Click Counts for Pass, Fail, and Withdrawn Categories')\n",
    "plt.xlabel('Categories')\n",
    "plt.ylabel('Average Click Counts')\n",
    "plt.show()\n"
   ]
  },
  {
   "cell_type": "code",
   "execution_count": 28,
   "metadata": {},
   "outputs": [],
   "source": [
    "filtered_df = filtered_info_df_AAA.to_csv('filtered_df.csv')"
   ]
  }
 ],
 "metadata": {
  "kernelspec": {
   "display_name": "Python 3",
   "language": "python",
   "name": "python3"
  },
  "language_info": {
   "codemirror_mode": {
    "name": "ipython",
    "version": 3
   },
   "file_extension": ".py",
   "mimetype": "text/x-python",
   "name": "python",
   "nbconvert_exporter": "python",
   "pygments_lexer": "ipython3",
   "version": "3.11.5"
  }
 },
 "nbformat": 4,
 "nbformat_minor": 2
}
